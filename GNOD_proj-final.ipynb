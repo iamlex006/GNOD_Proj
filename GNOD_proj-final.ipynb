{
 "cells": [
  {
   "cell_type": "code",
   "execution_count": 29,
   "id": "42e4c37f",
   "metadata": {},
   "outputs": [
    {
     "name": "stdout",
     "output_type": "stream",
     "text": [
      "Enter the name of a song: shivers\n",
      "Your recommendation is: 52    flower shops\n",
      "Name: title, dtype: object\n"
     ]
    }
   ],
   "source": [
    "#imports\n",
    "import pandas as pd\n",
    "import numpy as np\n",
    "import pickle\n",
    "import spotipy\n",
    "from spotipy.oauth2 import SpotifyClientCredentials\n",
    "\n",
    "#read files\n",
    "top100 = pd.read_csv('top100songs.csv')\n",
    "playlist_clustered = pd.read_csv('playlist_clustered.csv')\n",
    "kmeans = pickle.load(open('kmeans_6.pkl', 'rb'))\n",
    "scaler = pickle.load(open('scaler_spoti.pkl', 'rb'))\n",
    "\n",
    "#clean files\n",
    "top100['title'] = list(map(lambda x: x.lower(), top100['title']))\n",
    "top100 = top100.drop('Unnamed: 0', axis=1)\n",
    "playlist_clustered = playlist_clustered.drop('Unnamed: 0',axis=1)\n",
    "\n",
    "#connect to API\n",
    "secrets_file = open(\"SpotifySecret.txt\",\"r\")\n",
    "string = secrets_file.read()\n",
    "string.split('\\n')\n",
    "secrets_dict={}\n",
    "for line in string.split('\\n'):\n",
    "    if len(line) > 0:\n",
    "        secrets_dict[line.split(':')[0]]=line.split(':')[1]\n",
    "sp = spotipy.Spotify(auth_manager=SpotifyClientCredentials(client_id=secrets_dict['cid'],\n",
    "                                                           client_secret=secrets_dict['cs']))\n",
    "\n",
    "#get user input\n",
    "song = input(\"Enter the name of a song: \")\n",
    "song = song.lower()\n",
    "\n",
    "#check if song in Top 100\n",
    "top100_title = pd.Series(top100.title)\n",
    "check = song in top100_title.unique()\n",
    "if check == True:\n",
    "#recommend another song from Top 100\n",
    "    chosen_idx = np.random.choice(100, replace = False, size = 1)\n",
    "    reco_100 = top100.iloc[chosen_idx]\n",
    "    print(\"Your recommendation is:\", reco_100['title'])\n",
    "else:\n",
    "#look for audio features of song\n",
    "    results = sp.search(q='track:' + song, type = 'track')\n",
    "    output = pd.DataFrame(results['tracks']['items'])\n",
    "    output['name'] = output['name'].apply(lambda x: x.lower())\n",
    "\n",
    "    if len(output) > 0:\n",
    "        id = output['id'][0]\n",
    "        track_info = sp.track(id)\n",
    "        features_info = sp.audio_features(id)\n",
    "    \n",
    "        name = track_info['name']\n",
    "        album = track_info['album']['name']\n",
    "        artist = track_info['album']['artists'][0]['name']\n",
    "        release_date = track_info['album']['release_date']\n",
    "        length = track_info['duration_ms']\n",
    "        popularity = track_info['popularity']\n",
    "    \n",
    "        acousticness = features_info[0]['acousticness']\n",
    "        danceability = features_info[0]['danceability']\n",
    "        energy = features_info[0]['energy']\n",
    "        instrumentalness = features_info[0]['instrumentalness']\n",
    "        liveness = features_info[0]['liveness']\n",
    "        loudness = features_info[0]['loudness']\n",
    "        speechiness = features_info[0]['speechiness']\n",
    "        tempo = features_info[0]['tempo']\n",
    "        time_signature = features_info[0]['time_signature']\n",
    "    \n",
    "        track_data = [name, album, artist, release_date, length, popularity, acousticness, danceability, energy, instrumentalness, liveness, loudness, speechiness, tempo, time_signature]\n",
    "\n",
    "        track_list = pd.DataFrame(track_data)\n",
    "        total_features = track_list.T\n",
    "        total_features.columns=['name', 'album', 'artist', 'release_date', 'length', 'popularity', 'acousticness', 'danceability', 'energy', 'instrumentalness', 'liveness', 'loudness', 'speechiness', 'tempo', 'time_signature']\n",
    "\n",
    "#prepare the audio features for clustering\n",
    "        X_list = total_features.drop(['name', 'album','artist','release_date'],axis=1)\n",
    "        X_prep = scaler.transform(X_list)\n",
    "        X_prep_def = pd.DataFrame(X_prep,columns=X_list.columns)\n",
    "\n",
    "#assign song to a cluster\n",
    "        prediction = kmeans.predict(X_prep_def)\n",
    "        total_features['cluster_number'] = pd.Series(prediction, index=total_features.index)\n",
    "    \n",
    "#recommend another song from the same cluster\n",
    "        reco_cluster = playlist_clustered.loc[playlist_clustered['cluster_number'] == prediction[0]][['name','artist','cluster_number']].reset_index(drop=True)\n",
    "    \n",
    "        chosen_idx_cluster = np.random.choice(len(reco_cluster), replace = False, size = 1)\n",
    "        final_reco = reco_cluster.iloc[chosen_idx_cluster]\n",
    "        reco_title = final_reco['name']\n",
    "        reco_artist = final_reco['artist']\n",
    "        print(\"Your recommendation is \" + reco_title + ' by ' + reco_artist)\n",
    "\n",
    "#if the song isn't on spotify at all\n",
    "    else:\n",
    "        print(\"Your song is unknown, please enter another song\")"
   ]
  }
 ],
 "metadata": {
  "kernelspec": {
   "display_name": "Python 3 (ipykernel)",
   "language": "python",
   "name": "python3"
  },
  "language_info": {
   "codemirror_mode": {
    "name": "ipython",
    "version": 3
   },
   "file_extension": ".py",
   "mimetype": "text/x-python",
   "name": "python",
   "nbconvert_exporter": "python",
   "pygments_lexer": "ipython3",
   "version": "3.9.7"
  },
  "toc": {
   "base_numbering": 1,
   "nav_menu": {},
   "number_sections": true,
   "sideBar": true,
   "skip_h1_title": false,
   "title_cell": "Table of Contents",
   "title_sidebar": "Contents",
   "toc_cell": false,
   "toc_position": {},
   "toc_section_display": true,
   "toc_window_display": false
  },
  "varInspector": {
   "cols": {
    "lenName": 16,
    "lenType": 16,
    "lenVar": 40
   },
   "kernels_config": {
    "python": {
     "delete_cmd_postfix": "",
     "delete_cmd_prefix": "del ",
     "library": "var_list.py",
     "varRefreshCmd": "print(var_dic_list())"
    },
    "r": {
     "delete_cmd_postfix": ") ",
     "delete_cmd_prefix": "rm(",
     "library": "var_list.r",
     "varRefreshCmd": "cat(var_dic_list()) "
    }
   },
   "types_to_exclude": [
    "module",
    "function",
    "builtin_function_or_method",
    "instance",
    "_Feature"
   ],
   "window_display": false
  }
 },
 "nbformat": 4,
 "nbformat_minor": 5
}

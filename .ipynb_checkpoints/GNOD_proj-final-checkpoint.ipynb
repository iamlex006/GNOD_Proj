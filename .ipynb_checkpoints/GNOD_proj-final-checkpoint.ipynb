{
 "cells": [
  {
   "cell_type": "markdown",
   "id": "5803515c",
   "metadata": {},
   "source": [
    "# Let's first gather our data and do last cleaning (lower case, etc.)"
   ]
  },
  {
   "cell_type": "code",
   "execution_count": 1,
   "id": "42e4c37f",
   "metadata": {},
   "outputs": [],
   "source": [
    "import pandas as pd\n",
    "import numpy as np\n",
    "import pickle"
   ]
  },
  {
   "cell_type": "code",
   "execution_count": 2,
   "id": "28a7c9d2",
   "metadata": {},
   "outputs": [],
   "source": [
    "top100 = pd.read_csv('top100songs.csv')\n",
    "playlist_clustered = pd.read_csv('playlist_clustered.csv')\n",
    "kmeans = pickle.load(open('kmeans_6.pkl', 'rb'))\n",
    "scaler = pickle.load(open('scaler_spoti.pkl', 'rb'))"
   ]
  },
  {
   "cell_type": "code",
   "execution_count": 3,
   "id": "e651c4af",
   "metadata": {},
   "outputs": [],
   "source": [
    "top100['title'] = list(map(lambda x: x.lower(), top100['title']))\n",
    "top100 = top100.drop('Unnamed: 0', axis=1)"
   ]
  },
  {
   "cell_type": "code",
   "execution_count": 4,
   "id": "0930d6a9",
   "metadata": {},
   "outputs": [],
   "source": [
    "playlist_clustered = playlist_clustered.drop('Unnamed: 0',axis=1)"
   ]
  },
  {
   "cell_type": "markdown",
   "id": "35e36609",
   "metadata": {},
   "source": [
    "# Prepare connection to the API"
   ]
  },
  {
   "cell_type": "code",
   "execution_count": 5,
   "id": "7c4f10ed",
   "metadata": {},
   "outputs": [],
   "source": [
    "import spotipy\n",
    "from spotipy.oauth2 import SpotifyClientCredentials"
   ]
  },
  {
   "cell_type": "code",
   "execution_count": 6,
   "id": "196d9cfe",
   "metadata": {},
   "outputs": [],
   "source": [
    "secrets_file = open(\"SpotifySecret.txt\",\"r\")"
   ]
  },
  {
   "cell_type": "code",
   "execution_count": 7,
   "id": "6abe59ef",
   "metadata": {},
   "outputs": [],
   "source": [
    "string = secrets_file.read()"
   ]
  },
  {
   "cell_type": "code",
   "execution_count": 8,
   "id": "57b6e51f",
   "metadata": {},
   "outputs": [
    {
     "data": {
      "text/plain": [
       "['cid:9d470e7ce3a646e5a0399dc806f176f7', 'cs:65069de4155e4a2186f95a95b93bd83f']"
      ]
     },
     "execution_count": 8,
     "metadata": {},
     "output_type": "execute_result"
    }
   ],
   "source": [
    "string.split('\\n')"
   ]
  },
  {
   "cell_type": "code",
   "execution_count": 9,
   "id": "8ce5ae85",
   "metadata": {},
   "outputs": [],
   "source": [
    "secrets_dict={}\n",
    "for line in string.split('\\n'):\n",
    "    if len(line) > 0:\n",
    "        secrets_dict[line.split(':')[0]]=line.split(':')[1]"
   ]
  },
  {
   "cell_type": "code",
   "execution_count": 10,
   "id": "22711518",
   "metadata": {},
   "outputs": [],
   "source": [
    "sp = spotipy.Spotify(auth_manager=SpotifyClientCredentials(client_id=secrets_dict['cid'],\n",
    "                                                           client_secret=secrets_dict['cs']))"
   ]
  },
  {
   "cell_type": "markdown",
   "id": "fe1c5073",
   "metadata": {},
   "source": [
    "# Get user input"
   ]
  },
  {
   "cell_type": "code",
   "execution_count": 11,
   "id": "23006e8e",
   "metadata": {},
   "outputs": [
    {
     "name": "stdout",
     "output_type": "stream",
     "text": [
      "Enter the name of a song: Shivers\n"
     ]
    }
   ],
   "source": [
    "song = input(\"Enter the name of a song: \")"
   ]
  },
  {
   "cell_type": "markdown",
   "id": "327d9363",
   "metadata": {},
   "source": [
    "# Check if song is in top 100 and recommend if yes"
   ]
  },
  {
   "cell_type": "code",
   "execution_count": 12,
   "id": "accea1f3",
   "metadata": {},
   "outputs": [
    {
     "name": "stdout",
     "output_type": "stream",
     "text": [
      "Your recommendation is: 38    heat waves\n",
      "Name: title, dtype: object\n"
     ]
    }
   ],
   "source": [
    "song = song.lower()\n",
    "top100_title = pd.Series(top100.title)\n",
    "check = song in top100_title.unique()\n",
    "if check == True:\n",
    "    chosen_idx = np.random.choice(100, replace = False, size = 1)\n",
    "    reco_100 = top100.iloc[chosen_idx]\n",
    "    print(\"Your recommendation is:\", reco_100['title'])\n",
    "else:\n",
    "    print(False)"
   ]
  },
  {
   "cell_type": "code",
   "execution_count": 13,
   "id": "e50226e7",
   "metadata": {},
   "outputs": [],
   "source": [
    "#I first check if the song title belongs to the top100 list. If true, then I randomly return a title from the top100 list, otherwise return false for now (spoiler alert: will work on what happens when \"false\" in next chapter). "
   ]
  },
  {
   "cell_type": "markdown",
   "id": "f79e5817",
   "metadata": {},
   "source": [
    "# If song is not in top100 - get features of the song from Spotify"
   ]
  },
  {
   "cell_type": "code",
   "execution_count": 14,
   "id": "9dc52d17",
   "metadata": {},
   "outputs": [],
   "source": [
    "#had to dive into the spotipy documentation but managed eventually"
   ]
  },
  {
   "cell_type": "code",
   "execution_count": 15,
   "id": "a9499adb",
   "metadata": {},
   "outputs": [],
   "source": [
    "results = sp.search(q='track:' + song, type = 'track')\n",
    "output = pd.DataFrame(results['tracks']['items'])\n",
    "output['name'] = output['name'].apply(lambda x: x.lower())\n",
    "\n",
    "if len(output) > 0:\n",
    "    id = output['id'][0]\n",
    "    track_info = sp.track(id)\n",
    "    features_info = sp.audio_features(id)\n",
    "    \n",
    "    name = track_info['name']\n",
    "    album = track_info['album']['name']\n",
    "    artist = track_info['album']['artists'][0]['name']\n",
    "    release_date = track_info['album']['release_date']\n",
    "    length = track_info['duration_ms']\n",
    "    popularity = track_info['popularity']\n",
    "    \n",
    "    acousticness = features_info[0]['acousticness']\n",
    "    danceability = features_info[0]['danceability']\n",
    "    energy = features_info[0]['energy']\n",
    "    instrumentalness = features_info[0]['instrumentalness']\n",
    "    liveness = features_info[0]['liveness']\n",
    "    loudness = features_info[0]['loudness']\n",
    "    speechiness = features_info[0]['speechiness']\n",
    "    tempo = features_info[0]['tempo']\n",
    "    time_signature = features_info[0]['time_signature']\n",
    "    \n",
    "    track_data = [name, album, artist, release_date, length, popularity, acousticness, danceability, energy, instrumentalness, liveness, loudness, speechiness, tempo, time_signature]\n",
    "\n",
    "    track_list = pd.DataFrame(track_data)\n",
    "    total_features = track_list.T\n",
    "    total_features.columns=['name', 'album', 'artist', 'release_date', 'length', 'popularity', 'acousticness', 'danceability', 'energy', 'instrumentalness', 'liveness', 'loudness', 'speechiness', 'tempo', 'time_signature']\n",
    "    "
   ]
  },
  {
   "cell_type": "markdown",
   "id": "4a587492",
   "metadata": {},
   "source": [
    "# Scale the features and get a cluster number for the song"
   ]
  },
  {
   "cell_type": "code",
   "execution_count": 16,
   "id": "78476e2d",
   "metadata": {},
   "outputs": [],
   "source": [
    "# X_list = total_features.drop(['name', 'album','artist','release_date'],axis=1)"
   ]
  },
  {
   "cell_type": "code",
   "execution_count": 17,
   "id": "41d8b202",
   "metadata": {},
   "outputs": [],
   "source": [
    "# X_prep = scaler.transform(X_list)\n",
    "# X_prep = pd.DataFrame(X_prep,columns=X_list.columns)"
   ]
  },
  {
   "cell_type": "code",
   "execution_count": 18,
   "id": "db3868a1",
   "metadata": {},
   "outputs": [],
   "source": [
    "# prediction = kmeans.predict(X_prep)"
   ]
  },
  {
   "cell_type": "code",
   "execution_count": 19,
   "id": "6de4489b",
   "metadata": {},
   "outputs": [],
   "source": [
    "# total_features['cluster_number'] = pd.Series(prediction, index=total_features.index)"
   ]
  },
  {
   "cell_type": "code",
   "execution_count": 20,
   "id": "63eaa9fa",
   "metadata": {},
   "outputs": [
    {
     "name": "stderr",
     "output_type": "stream",
     "text": [
      "/Users/lex/opt/anaconda3/lib/python3.9/site-packages/sklearn/base.py:443: UserWarning: X has feature names, but KMeans was fitted without feature names\n",
      "  warnings.warn(\n"
     ]
    }
   ],
   "source": [
    "X_list = total_features.drop(['name', 'album','artist','release_date'],axis=1)\n",
    "X_prep = scaler.transform(X_list)\n",
    "X_prep_def = pd.DataFrame(X_prep,columns=X_list.columns)\n",
    "prediction = kmeans.predict(X_prep_def)\n",
    "total_features['cluster_number'] = pd.Series(prediction, index=total_features.index)"
   ]
  },
  {
   "cell_type": "markdown",
   "id": "414b9d9c",
   "metadata": {},
   "source": [
    "# Recommend another song from the same cluster"
   ]
  },
  {
   "cell_type": "code",
   "execution_count": 32,
   "id": "55d89f85",
   "metadata": {
    "scrolled": true
   },
   "outputs": [],
   "source": [
    "reco_cluster = playlist_clustered.loc[playlist_clustered['cluster_number'] == prediction[0]][['name','artist','cluster_number']].reset_index(drop=True)"
   ]
  },
  {
   "cell_type": "code",
   "execution_count": 54,
   "id": "fccfa45f",
   "metadata": {},
   "outputs": [
    {
     "name": "stdout",
     "output_type": "stream",
     "text": [
      "2319    Your recommendation is Crimewave by Crystal Ca...\n",
      "dtype: object\n"
     ]
    }
   ],
   "source": [
    "chosen_idx_cluster = np.random.choice(len(reco_cluster), replace = False, size = 1)\n",
    "final_reco = reco_cluster.iloc[chosen_idx_cluster]\n",
    "reco_title = final_reco['name']\n",
    "reco_artist = final_reco['artist']\n",
    "print(\"Your recommendation is \" + reco_title + ' by ' + reco_artist)"
   ]
  },
  {
   "cell_type": "code",
   "execution_count": null,
   "id": "207293b2",
   "metadata": {},
   "outputs": [],
   "source": []
  },
  {
   "cell_type": "code",
   "execution_count": null,
   "id": "3f1efe29",
   "metadata": {},
   "outputs": [],
   "source": []
  },
  {
   "cell_type": "code",
   "execution_count": null,
   "id": "1a00c236",
   "metadata": {},
   "outputs": [],
   "source": []
  },
  {
   "cell_type": "code",
   "execution_count": null,
   "id": "59febd4b",
   "metadata": {},
   "outputs": [],
   "source": []
  },
  {
   "cell_type": "code",
   "execution_count": null,
   "id": "637696d1",
   "metadata": {},
   "outputs": [],
   "source": []
  },
  {
   "cell_type": "code",
   "execution_count": null,
   "id": "c8236cbc",
   "metadata": {},
   "outputs": [],
   "source": []
  },
  {
   "cell_type": "code",
   "execution_count": null,
   "id": "2eaaedd5",
   "metadata": {},
   "outputs": [],
   "source": []
  },
  {
   "cell_type": "code",
   "execution_count": null,
   "id": "ba7fead3",
   "metadata": {},
   "outputs": [],
   "source": []
  }
 ],
 "metadata": {
  "kernelspec": {
   "display_name": "Python 3 (ipykernel)",
   "language": "python",
   "name": "python3"
  },
  "language_info": {
   "codemirror_mode": {
    "name": "ipython",
    "version": 3
   },
   "file_extension": ".py",
   "mimetype": "text/x-python",
   "name": "python",
   "nbconvert_exporter": "python",
   "pygments_lexer": "ipython3",
   "version": "3.9.7"
  },
  "toc": {
   "base_numbering": 1,
   "nav_menu": {},
   "number_sections": true,
   "sideBar": true,
   "skip_h1_title": false,
   "title_cell": "Table of Contents",
   "title_sidebar": "Contents",
   "toc_cell": false,
   "toc_position": {},
   "toc_section_display": true,
   "toc_window_display": false
  },
  "varInspector": {
   "cols": {
    "lenName": 16,
    "lenType": 16,
    "lenVar": 40
   },
   "kernels_config": {
    "python": {
     "delete_cmd_postfix": "",
     "delete_cmd_prefix": "del ",
     "library": "var_list.py",
     "varRefreshCmd": "print(var_dic_list())"
    },
    "r": {
     "delete_cmd_postfix": ") ",
     "delete_cmd_prefix": "rm(",
     "library": "var_list.r",
     "varRefreshCmd": "cat(var_dic_list()) "
    }
   },
   "types_to_exclude": [
    "module",
    "function",
    "builtin_function_or_method",
    "instance",
    "_Feature"
   ],
   "window_display": false
  }
 },
 "nbformat": 4,
 "nbformat_minor": 5
}
